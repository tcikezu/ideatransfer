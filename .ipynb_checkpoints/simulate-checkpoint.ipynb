{
 "cells": [
  {
   "cell_type": "code",
   "execution_count": 1,
   "metadata": {},
   "outputs": [],
   "source": [
    "import transfer\n",
    "from community import *\n",
    "import  matplotlib.pyplot as plt\n",
    "import mpl_toolkits.mplot3d.axes3d as p3\n",
    "import matplotlib.animation as animation\n",
    "import numpy as np\n",
    "from datetime import datetime\n",
    "\n",
    "# There is an option to set a file-name -- would highly recommend doing that.\n",
    "date_time = datetime.now().strftime(\"%m_%d_%Y_%H:%M:%S\")\n"
   ]
  },
  {
   "cell_type": "code",
   "execution_count": 2,
   "metadata": {},
   "outputs": [],
   "source": [
    "\"\"\" simulate returns an animated 3d scatter plot of the community allIdeas object.\n",
    "The input parameters are the community, the interaction coefficient gamma, \n",
    "and also fn, a string file-name which defaults to date and time.\"\"\"\n",
    "def simulate(c=None, T = 80,fn=date_time):\n",
    "    if c is None:\n",
    "        c = community(300,3,10)\n",
    "    fps = 40\n",
    "\n",
    "    # Data to store c.allIdeas, to then make animation\n",
    "    dataX = np.zeros((T*fps,c.numberMembers))\n",
    "    dataY = np.zeros((T*fps,c.numberMembers))\n",
    "    dataZ = np.zeros((T*fps,c.numberMembers))\n",
    "    \n",
    "    posX = np.zeros((T*fps,c.numberMembers))\n",
    "    posY = np.zeros((T*fps,c.numberMembers))\n",
    "    \n",
    "    ideaDist = np.zeros((T*fps,c.domainSize*2+1))\n",
    "\n",
    "    # Iterate the idea transfer throughout community\n",
    "    for t in range(0,T+1):\n",
    "        np.random.seed()\n",
    "        dataX[t,:] = c.allIdeas[:,0]\n",
    "        dataY[t,:] = c.allIdeas[:,1]\n",
    "        dataZ[t,:] = c.allIdeas[:,2]\n",
    "        \n",
    "        posX[t,:] = c.allPositions[:,0]\n",
    "        posY[t,:] = c.allPositions[:,1]\n",
    "        \n",
    "        ideaDist[t,:] = c.ideaDistribution[0][0]\n",
    "        #transfer.deterministicMerge(c, gamma, t)\n",
    "        transfer.probabilisticMerge(c, t)\n",
    "\n",
    "    # Plot results\n",
    "    fig = plt.figure(figsize=(10,5))\n",
    "    ax1 = fig.add_subplot(131,projection='3d')\n",
    "    ax1.scatter3D(dataX[0], dataY[0], dataZ[0])\n",
    "\n",
    "    ax1Ticks = np.linspace(-c.domainSize,c.domainSize,5)\n",
    "    ax1bounds = (-c.domainSize,c.domainSize)\n",
    "    \n",
    "    ax2 = fig.add_subplot(132)\n",
    "    ax2Ticks = np.linspace(-2*c.getPositionBounds(),2*c.getPositionBounds(),4)  \n",
    "    ax2bounds = (-2*c.getPositionBounds(),2*c.getPositionBounds())\n",
    "    \n",
    "    ax3 = fig.add_subplot(133)\n",
    "    ax3.scatter(c.domain,ideaDist[0])\n",
    "#     ax3Ticks = np.linspace(-c.domainSize,c.domainSize+1,1)\n",
    "    \n",
    "    #animation function for animation.FuncAnimation\n",
    "    def update(ifrm,dataX,dataY,dataZ,posX,posY,ideaDist):\n",
    "        ax1.clear()\n",
    "#         ax1.set_xticks(ax2Ticks)\n",
    "#         ax1.set_yticks(ax2Ticks)\n",
    "        ax1.set_zticks(ax1Ticks)\n",
    "        ax1.set(xlim=ax1bounds,ylim=ax1bounds,zlim=ax1bounds)\n",
    "        ax1.scatter3D(dataX[ifrm], dataY[ifrm], dataZ[ifrm])\n",
    "        ax1.set_xlabel(\"frame: %d\" % (ifrm))\n",
    "        \n",
    "        ax2.clear()\n",
    "        ax2.set_xticks(ax2Ticks)\n",
    "        ax2.set_yticks(ax2Ticks)\n",
    "        ax2.set(xlim = ax2bounds, ylim = ax2bounds)\n",
    "        ax2.scatter(posX[ifrm],posY[ifrm],s=1000*c.allRadii**2,alpha=0.08)\n",
    "        ax2.scatter(posX[ifrm][0], posY[ifrm][0], s=1000*c.allRadii[0]**2,c='r',alpha=0.2)\n",
    "        ax2.set_xlabel(\"frame: %d\" % (ifrm))\n",
    "        \n",
    "        ax3.clear()\n",
    "        ax3.scatter(c.domain,ideaDist[ifrm])\n",
    "        ax3.set_xlabel(\"member 0, frame: %d\" % (ifrm))\n",
    "\n",
    "    ani = animation.FuncAnimation(fig, update, T, fargs=(dataX,dataY,dataZ,posX,posY,ideaDist),interval = T/fps )\n",
    "    ani.save(fn+'.gif',writer='imagemagick',fps=fps)\n",
    "\n",
    "    #plt.show()\n"
   ]
  },
  {
   "cell_type": "code",
   "execution_count": null,
   "metadata": {
    "scrolled": true
   },
   "outputs": [],
   "source": [
    "numberIterations = 1\n",
    "for i in range(1,numberIterations+1):\n",
    "    c = community(numberMembers=1000,numberIdeas=10,domainSize=10)\n",
    "    simulate(c,T=200,fn=str(i))\n",
    "    if i < numberIterations:\n",
    "        del c"
   ]
  },
  {
   "cell_type": "code",
   "execution_count": null,
   "metadata": {
    "scrolled": true
   },
   "outputs": [],
   "source": [
    "plt.plot(c.ideaDistribution[6][0],'o')\n",
    "plt.show()"
   ]
  },
  {
   "cell_type": "code",
   "execution_count": null,
   "metadata": {},
   "outputs": [],
   "source": [
    "c.ideaDistribution[0][0]"
   ]
  },
  {
   "cell_type": "code",
   "execution_count": null,
   "metadata": {
    "scrolled": true
   },
   "outputs": [],
   "source": [
    "from scipy import cluster\n",
    "centroids, loss = cluster.vq.kmeans(c.allPositions,2)\n",
    "centroids"
   ]
  },
  {
   "cell_type": "code",
   "execution_count": null,
   "metadata": {},
   "outputs": [],
   "source": [
    "plt.scatter(c.allPositions[:,0],c.allPositions[:,1],s=1000*c.allRadii**2,alpha=0.08)"
   ]
  },
  {
   "cell_type": "code",
   "execution_count": null,
   "metadata": {},
   "outputs": [],
   "source": [
    "def closest_centroids(points,centroids):\n",
    "    distances = np.sqrt(((points - centroids[:,np.newaxis])**2).sum(axis=2))\n",
    "    return np.argmin(distances,axis=0)"
   ]
  },
  {
   "cell_type": "code",
   "execution_count": null,
   "metadata": {},
   "outputs": [],
   "source": [
    "c.ideaDistribution[closest_centroids(c.allPositions,centroids)==0].shape"
   ]
  },
  {
   "cell_type": "code",
   "execution_count": null,
   "metadata": {},
   "outputs": [],
   "source": [
    "plt.plot(c.ideaDistribution[closest_centroids(c.allPositions, centroids)==0][4][1][:],'o')"
   ]
  },
  {
   "cell_type": "code",
   "execution_count": null,
   "metadata": {
    "scrolled": true
   },
   "outputs": [],
   "source": [
    "ideaTransfer = transfer.probAgreement(c) * transfer.probInteraction(c)\n",
    "plt.imshow(ideaTransfer)"
   ]
  },
  {
   "cell_type": "code",
   "execution_count": null,
   "metadata": {
    "scrolled": true
   },
   "outputs": [],
   "source": [
    "plt.imshow(transfer.probAgreement(c))"
   ]
  },
  {
   "cell_type": "code",
   "execution_count": null,
   "metadata": {},
   "outputs": [],
   "source": [
    "plt.imshow(transfer.probInteraction(c))"
   ]
  },
  {
   "cell_type": "code",
   "execution_count": null,
   "metadata": {},
   "outputs": [],
   "source": [
    "sum(sum(transfer.probAgreement(c) != 0)) / c.numberMembers**2"
   ]
  },
  {
   "cell_type": "code",
   "execution_count": null,
   "metadata": {},
   "outputs": [],
   "source": [
    "sum(sum(transfer.probInteraction(c)>0))/ c.numberMembers**2"
   ]
  },
  {
   "cell_type": "code",
   "execution_count": null,
   "metadata": {},
   "outputs": [],
   "source": [
    "sum(sum(transfer.probInteraction(c)* (transfer.probAgreement(c)>0)))/c.numberMembers**2"
   ]
  },
  {
   "cell_type": "code",
   "execution_count": null,
   "metadata": {},
   "outputs": [],
   "source": [
    "plt.plot(c.allRadii,'.')"
   ]
  },
  {
   "cell_type": "code",
   "execution_count": null,
   "metadata": {},
   "outputs": [],
   "source": [
    "plt.plot(c.allThresholds,'.')"
   ]
  },
  {
   "cell_type": "code",
   "execution_count": null,
   "metadata": {},
   "outputs": [],
   "source": [
    "plt.plot(c.allGregariousness,'.')"
   ]
  },
  {
   "cell_type": "code",
   "execution_count": null,
   "metadata": {},
   "outputs": [],
   "source": [
    "plt.plot(c.allBeta.flatten(),'.')"
   ]
  },
  {
   "cell_type": "code",
   "execution_count": null,
   "metadata": {},
   "outputs": [],
   "source": [
    "plt.plot(c.allGamma.flatten(),'.')"
   ]
  },
  {
   "cell_type": "code",
   "execution_count": null,
   "metadata": {},
   "outputs": [],
   "source": [
    "plt.plot(c.allVelocities[:,1],'.')"
   ]
  },
  {
   "cell_type": "code",
   "execution_count": null,
   "metadata": {},
   "outputs": [],
   "source": []
  },
  {
   "cell_type": "code",
   "execution_count": null,
   "metadata": {},
   "outputs": [],
   "source": []
  },
  {
   "cell_type": "code",
   "execution_count": null,
   "metadata": {},
   "outputs": [],
   "source": []
  }
 ],
 "metadata": {
  "kernelspec": {
   "display_name": "Python 3",
   "language": "python",
   "name": "python3"
  },
  "language_info": {
   "codemirror_mode": {
    "name": "ipython",
    "version": 3
   },
   "file_extension": ".py",
   "mimetype": "text/x-python",
   "name": "python",
   "nbconvert_exporter": "python",
   "pygments_lexer": "ipython3",
   "version": "3.7.4"
  }
 },
 "nbformat": 4,
 "nbformat_minor": 2
}
