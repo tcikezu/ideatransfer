{
 "cells": [
  {
   "cell_type": "code",
   "execution_count": 1,
   "metadata": {},
   "outputs": [],
   "source": [
    "import transfer\n",
    "from community import *\n",
    "import  matplotlib.pyplot as plt\n",
    "import mpl_toolkits.mplot3d.axes3d as p3\n",
    "import matplotlib.animation as animation\n",
    "import numpy as np\n",
    "from datetime import datetime\n",
    "\n",
    "# There is an option to set a file-name -- would highly recommend doing that.\n",
    "date_time = datetime.now().strftime(\"%m_%d_%Y_%H:%M:%S\")\n"
   ]
  },
  {
   "cell_type": "code",
   "execution_count": 2,
   "metadata": {},
   "outputs": [],
   "source": [
    "\"\"\" simulate returns an animated 3d scatter plot of the community allIdeas object.\n",
    "The input parameters are the community, the interaction coefficient gamma, \n",
    "and also fn, a string file-name which defaults to date and time.\"\"\"\n",
    "def simulate(X=None, gamma = 0.005, T = 80,fn=date_time):\n",
    "    # seems like the same community is used again and again if I do not specify None case below.\n",
    "    if X is None:\n",
    "        X = community(300,3)\n",
    "    fps = 40\n",
    "\n",
    "    # Data to store X.allIdeas, to then make animation\n",
    "    dataX = np.ndarray((T*fps,X.numberMembers))\n",
    "    dataY = np.ndarray((T*fps,X.numberMembers))\n",
    "    dataZ = np.ndarray((T*fps,X.numberMembers))\n",
    "\n",
    "    # Iterate the idea transfer throughout community\n",
    "    for t in range(0,T+1):\n",
    "        dataX[t,:] = X.allIdeas[:,0]\n",
    "        dataY[t,:] = X.allIdeas[:,1]\n",
    "        dataZ[t,:] = X.allIdeas[:,2]\n",
    "        #transfer.deterministicMerge(X, gamma/(t+1)**0.5)\n",
    "        transfer.probabilisticMerge(X, gamma/(t+1)**0.5)\n",
    "\n",
    "    # Plot results\n",
    "    fig = plt.figure()\n",
    "    ax = fig.add_subplot(111,projection='3d')\n",
    "    ax.scatter3D(dataX[0], dataY[0], dataZ[0])\n",
    "\n",
    "    axTicks = np.linspace(0,c.domainSize,4)\n",
    "\n",
    "    #animation function for animation.FuncAnimation\n",
    "    def update(ifrm,dataX,dataY,dataZ):\n",
    "        ax.clear()\n",
    "        plt.autoscale(False)\n",
    "        ax.set_xticks(axTicks)\n",
    "        ax.set_yticks(axTicks)\n",
    "        ax.set_zticks(axTicks)\n",
    "        ax.scatter3D(dataX[ifrm], dataY[ifrm], dataZ[ifrm])\n",
    "        ax.set_xlabel(\"frame: %d\" % (ifrm))\n",
    "\n",
    "    ani = animation.FuncAnimation(fig, update, T, fargs=(dataX,dataY,dataZ),interval = T/fps )\n",
    "    ani.save(fn+'.gif',writer='imagemagick',fps=fps)\n",
    "\n",
    "    plt.show()\n"
   ]
  },
  {
   "cell_type": "code",
   "execution_count": null,
   "metadata": {
    "scrolled": false
   },
   "outputs": [
    {
     "name": "stderr",
     "output_type": "stream",
     "text": [
      "/home/clark/Fall2019/cs221/project/util.py:34: RuntimeWarning: invalid value encountered in true_divide\n",
      "  return X / np.sum(X,axis=2).reshape(X.shape[0], X.shape[1],1)\n",
      "/home/clark/Fall2019/cs221/project/util.py:45: RuntimeWarning: invalid value encountered in less\n",
      "  return (u<c).argmax(axis=2)\n"
     ]
    }
   ],
   "source": [
    "c = community(numberMembers=10,numberIdeas=3,domainSize=10)\n",
    "simulate(c,gamma=0.5,T=240)"
   ]
  },
  {
   "cell_type": "code",
   "execution_count": null,
   "metadata": {
    "scrolled": false
   },
   "outputs": [],
   "source": [
    "c.allIdeas.min()"
   ]
  },
  {
   "cell_type": "code",
   "execution_count": null,
   "metadata": {},
   "outputs": [],
   "source": [
    "c.ideaDistribution"
   ]
  },
  {
   "cell_type": "code",
   "execution_count": null,
   "metadata": {},
   "outputs": [],
   "source": [
    "plt.imshow(c.agreementMatrix)"
   ]
  },
  {
   "cell_type": "code",
   "execution_count": null,
   "metadata": {},
   "outputs": [],
   "source": [
    "c.agreementMatrix"
   ]
  },
  {
   "cell_type": "code",
   "execution_count": null,
   "metadata": {},
   "outputs": [],
   "source": [
    "plt.imshow(c.distanceMatrix)"
   ]
  },
  {
   "cell_type": "code",
   "execution_count": null,
   "metadata": {},
   "outputs": [],
   "source": [
    "c.distanceMatrix"
   ]
  },
  {
   "cell_type": "code",
   "execution_count": null,
   "metadata": {},
   "outputs": [],
   "source": []
  }
 ],
 "metadata": {
  "kernelspec": {
   "display_name": "Python 3",
   "language": "python",
   "name": "python3"
  },
  "language_info": {
   "codemirror_mode": {
    "name": "ipython",
    "version": 3
   },
   "file_extension": ".py",
   "mimetype": "text/x-python",
   "name": "python",
   "nbconvert_exporter": "python",
   "pygments_lexer": "ipython3",
   "version": "3.7.4"
  }
 },
 "nbformat": 4,
 "nbformat_minor": 2
}
