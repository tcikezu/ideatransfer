{
 "cells": [
  {
   "cell_type": "code",
   "execution_count": 1,
   "metadata": {},
   "outputs": [],
   "source": [
    "import transfer\n",
    "from community import *\n",
    "import  matplotlib.pyplot as plt\n",
    "import mpl_toolkits.mplot3d.axes3d as p3\n",
    "import matplotlib.animation as animation\n",
    "import numpy as np\n",
    "from datetime import datetime\n",
    "\n",
    "# There is an option to set a file-name -- would highly recommend doing that.\n",
    "date_time = datetime.now().strftime(\"%m_%d_%Y_%H:%M:%S\")\n"
   ]
  },
  {
   "cell_type": "code",
   "execution_count": 2,
   "metadata": {},
   "outputs": [],
   "source": [
    "\"\"\" simulate returns an animated 3d scatter plot of the community allIdeas object.\n",
    "The input parameters are the community, the interaction coefficient gamma, \n",
    "and also fn, a string file-name which defaults to date and time.\"\"\"\n",
    "def simulate(c=None, gamma = 0.005, T = 80,fn=date_time):\n",
    "    # seems like the same community is used again and again if I do not specify None case below.\n",
    "    if c is None:\n",
    "        c = community(300,3)\n",
    "    fps = 40\n",
    "\n",
    "    # Data to store c.allIdeas, to then make animation\n",
    "    dataX = np.zeros((T*fps,c.numberMembers))\n",
    "    dataY = np.zeros((T*fps,c.numberMembers))\n",
    "    dataZ = np.zeros((T*fps,c.numberMembers))\n",
    "    \n",
    "#     posX = np.zeros((T*fps,c.numberMembers))\n",
    "#     posY = np.zeros((T*fps,c.numberMembers))\n",
    "\n",
    "    # Iterate the idea transfer throughout community\n",
    "    for t in range(0,T+1):\n",
    "        np.random.seed()\n",
    "        dataX[t,:] = c.allIdeas[:,0]\n",
    "        dataY[t,:] = c.allIdeas[:,1]\n",
    "        dataZ[t,:] = c.allIdeas[:,2]\n",
    "        \n",
    "#         posX[t,:] = c.allPositions[:,0]\n",
    "#         posY[t,:] = c.allPositions[:,1]\n",
    "        #transfer.deterministicMerge(c, gamma/(t+1)**0.5)\n",
    "        transfer.probabilisticMerge(c, gamma,t)\n",
    "\n",
    "    # Plot results\n",
    "    fig = plt.figure()\n",
    "#   fig, (ax1, ax2) = plt.subplots(1,2)\n",
    "    ax1 = fig.add_subplot(111,projection='3d')\n",
    "    ax1.scatter3D(dataX[0], dataY[0], dataZ[0])\n",
    "#     ax2.scatter(posX[0],posY[0])\n",
    "\n",
    "    ax1Ticks = np.linspace(-c.domainSize,c.domainSize,4)\n",
    "#     ax2Ticks = np.linspace(-2,2,4)\n",
    "\n",
    "    #animation function for animation.FuncAnimation\n",
    "    def update(ifrm,dataX,dataY,dataZ):\n",
    "        ax1.clear()\n",
    "        plt.autoscale(False)\n",
    "        ax1.set_xticks(ax1Ticks)\n",
    "        ax1.set_yticks(ax1Ticks)\n",
    "        ax1.set_zticks(ax1Ticks)\n",
    "        ax1.scatter3D(dataX[ifrm], dataY[ifrm], dataZ[ifrm])\n",
    "        ax1.set_xlabel(\"frame: %d\" % (ifrm))\n",
    "        \n",
    "#         ax2.clear()\n",
    "#         ax2.set_xticks(ax2Ticks)\n",
    "#         ax2.sety_ticks(ax2Ticks)\n",
    "#         ax2.scatter(posX[ifrm],posY[ifrm])\n",
    "#         ax2.set_xlabel(\"frame: %d\" % (ifrm))\n",
    "\n",
    "    ani = animation.FuncAnimation(fig, update, T, fargs=(dataX,dataY,dataZ),interval = T/fps )\n",
    "    ani.save(fn+'.gif',writer='imagemagick',fps=fps)\n",
    "\n",
    "    #plt.show()\n"
   ]
  },
  {
   "cell_type": "code",
   "execution_count": null,
   "metadata": {
    "scrolled": false
   },
   "outputs": [],
   "source": [
    "c = community(numberMembers=100,numberIdeas=3,domainSize=10)\n",
    "simulate(c,gamma=0.05,T=1000)"
   ]
  },
  {
   "cell_type": "code",
   "execution_count": null,
   "metadata": {},
   "outputs": [],
   "source": [
    "plt.plot(c.ideaDistribution[4][0],'o')\n",
    "plt.show()"
   ]
  },
  {
   "cell_type": "code",
   "execution_count": null,
   "metadata": {},
   "outputs": [],
   "source": [
    "plt.scatter(c.allPositions[:,0],c.allPositions[:,1])"
   ]
  },
  {
   "cell_type": "code",
   "execution_count": null,
   "metadata": {},
   "outputs": [],
   "source": [
    "c.ideaDistribution"
   ]
  },
  {
   "cell_type": "code",
   "execution_count": null,
   "metadata": {},
   "outputs": [],
   "source": [
    "plt.imshow(c.distanceMatrix)"
   ]
  },
  {
   "cell_type": "code",
   "execution_count": null,
   "metadata": {},
   "outputs": [],
   "source": []
  }
 ],
 "metadata": {
  "kernelspec": {
   "display_name": "Python 3",
   "language": "python",
   "name": "python3"
  },
  "language_info": {
   "codemirror_mode": {
    "name": "ipython",
    "version": 3
   },
   "file_extension": ".py",
   "mimetype": "text/x-python",
   "name": "python",
   "nbconvert_exporter": "python",
   "pygments_lexer": "ipython3",
   "version": "3.7.4"
  }
 },
 "nbformat": 4,
 "nbformat_minor": 2
}
